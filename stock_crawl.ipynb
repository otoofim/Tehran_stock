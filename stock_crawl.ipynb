{
 "cells": [
  {
   "cell_type": "code",
   "execution_count": 1,
   "metadata": {},
   "outputs": [],
   "source": [
    "from selenium import webdriver\n",
    "from bs4 import BeautifulSoup\n",
    "import pandas as pd\n",
    "import string"
   ]
  },
  {
   "cell_type": "code",
   "execution_count": 2,
   "metadata": {},
   "outputs": [],
   "source": [
    "driver = webdriver.Chrome(\"\")"
   ]
  },
  {
   "cell_type": "code",
   "execution_count": 3,
   "metadata": {},
   "outputs": [],
   "source": [
    "driver.get(\"http://www.tsetmc.com/Loader.aspx?ParTree=15131F\")"
   ]
  },
  {
   "cell_type": "code",
   "execution_count": 4,
   "metadata": {},
   "outputs": [
    {
     "name": "stderr",
     "output_type": "stream",
     "text": [
      "/anaconda3/lib/python3.6/site-packages/bs4/__init__.py:181: UserWarning: No parser was explicitly specified, so I'm using the best available HTML parser for this system (\"lxml\"). This usually isn't a problem, but if you run this code on another system, or in a different virtual environment, it may use a different parser and behave differently.\n",
      "\n",
      "The code that caused this warning is on line 193 of the file /anaconda3/lib/python3.6/runpy.py. To get rid of this warning, change code that looks like this:\n",
      "\n",
      " BeautifulSoup(YOUR_MARKUP})\n",
      "\n",
      "to this:\n",
      "\n",
      " BeautifulSoup(YOUR_MARKUP, \"lxml\")\n",
      "\n",
      "  markup_type=markup_type))\n"
     ]
    }
   ],
   "source": [
    "content = driver.page_source\n",
    "soup = BeautifulSoup(content)"
   ]
  },
  {
   "cell_type": "code",
   "execution_count": 5,
   "metadata": {},
   "outputs": [],
   "source": [
    "rows = soup.findAll('div', attrs={'class':'{c}'})"
   ]
  },
  {
   "cell_type": "code",
   "execution_count": 6,
   "metadata": {},
   "outputs": [],
   "source": [
    "observer_table = {}\n",
    "\n",
    "for row in rows:\n",
    "    factors = {'symbol':'', \"name\":'', \"num_shares\":'', \"amount\":'', \"value\":'', \"value_yesterday\":'',\n",
    "           \"value_first\":\"\", \"last_deal_price\":'', \"last_deal_fluctuation\":'',\n",
    "           \"last_deal_fluctuation_percentage\":'', \"last_price_price\":\"\", \"last_price_fluctuation\":'',\n",
    "           \"last_price_fluctuation_percentage\":'', \"lowest_price\":'', \"highest_price\":'', \"eps\":'', \"pe\":'',\n",
    "           \"buy_number_of_shares\":'', \"buy_amount\":'', \"buy_price\":'', \"sell_price\":'', \"sell_amount\":'',\n",
    "           \"sell_number_of_shares\":''}\n",
    "    for i,ele in enumerate(row.stripped_strings):\n",
    "        factors[list(factors.keys())[i]] = ele\n",
    "        \n",
    "    factors['link_id'] = row.attrs['id']\n",
    "    \n",
    "    observer_table[factors['symbol']] = factors\n"
   ]
  },
  {
   "cell_type": "code",
   "execution_count": 7,
   "metadata": {},
   "outputs": [
    {
     "data": {
      "text/plain": [
       "{'amount': '10.814M',\n",
       " 'buy_amount': '836.223 M',\n",
       " 'buy_number_of_shares': '9,999',\n",
       " 'buy_price': '11,004',\n",
       " 'eps': '-',\n",
       " 'highest_price': '11,004',\n",
       " 'last_deal_fluctuation': '524',\n",
       " 'last_deal_fluctuation_percentage': '5',\n",
       " 'last_deal_price': '11,004',\n",
       " 'last_price_fluctuation': '459',\n",
       " 'last_price_fluctuation_percentage': '4.38',\n",
       " 'last_price_price': '10,939',\n",
       " 'link_id': '2400322364771558',\n",
       " 'lowest_price': '11,004',\n",
       " 'name': 'سرمايه گذاري تامين اجتماعي',\n",
       " 'num_shares': '5,829',\n",
       " 'pe': '-',\n",
       " 'sell_amount': '0',\n",
       " 'sell_number_of_shares': '0',\n",
       " 'sell_price': '0',\n",
       " 'symbol': 'شستا',\n",
       " 'value': '119.001 B',\n",
       " 'value_first': '11,004',\n",
       " 'value_yesterday': '10,480'}"
      ]
     },
     "execution_count": 7,
     "metadata": {},
     "output_type": "execute_result"
    }
   ],
   "source": [
    "observer_table['شستا']"
   ]
  },
  {
   "cell_type": "code",
   "execution_count": null,
   "metadata": {},
   "outputs": [],
   "source": []
  },
  {
   "cell_type": "code",
   "execution_count": null,
   "metadata": {},
   "outputs": [],
   "source": []
  },
  {
   "cell_type": "code",
   "execution_count": null,
   "metadata": {},
   "outputs": [],
   "source": []
  },
  {
   "cell_type": "code",
   "execution_count": null,
   "metadata": {},
   "outputs": [],
   "source": []
  },
  {
   "cell_type": "code",
   "execution_count": null,
   "metadata": {},
   "outputs": [],
   "source": []
  }
 ],
 "metadata": {
  "kernelspec": {
   "display_name": "Python 3",
   "language": "python",
   "name": "python3"
  },
  "language_info": {
   "codemirror_mode": {
    "name": "ipython",
    "version": 3
   },
   "file_extension": ".py",
   "mimetype": "text/x-python",
   "name": "python",
   "nbconvert_exporter": "python",
   "pygments_lexer": "ipython3",
   "version": "3.6.4"
  }
 },
 "nbformat": 4,
 "nbformat_minor": 2
}
